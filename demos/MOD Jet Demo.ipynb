{
 "cells": [
  {
   "cell_type": "markdown",
   "metadata": {},
   "source": [
    "## MOD Jet Substructure Demo\n",
    "[Patrick T. Komiske](https://pkomiske.com) and [Eric M. Metodiev](https://www.ericmetodiev.com)\n",
    "\n",
    "This simple self-contained notebook demonstrates how to obtain the distribution of any jet substructure observable on the MOD-processed CMS Open Data.\n",
    "\n",
    "The CMS-recorded (`cms`), Pythia-generated (`gen`), and detector-simulated (`sim`) datasets of jets are directly downloaded from Zenodo. Simple defaults are used for observables, jet selections, and particle flow candidate filters, but these can be very easily customized by the user. \n",
    "\n",
    "If used with Binder, this requires zero software installation or file downloads. Just run it in your browser. Enjoy!\n",
    "\n",
    "If these datasets or software packages are helpful in your research, please cite:\n",
    "* The [MOD jet substructure paper](): \"Exploring the Space of Jets with CMS Open Data\"\n",
    "* The [Zenodo records](https://doi.org/10.5281/zenodo.3340205\n",
    ") of the MOD-processed CMS Open Data and Monte Carlo files\n",
    "* The [EnergyFlow](https://energyflow.network/faqs/) python package, where more documentation is available"
   ]
  },
  {
   "cell_type": "code",
   "execution_count": 71,
   "metadata": {},
   "outputs": [],
   "source": [
    "import numpy as np\n",
    "import matplotlib.pyplot as plt\n",
    "\n",
    "import energyflow as ef\n",
    "from energyflow.datasets import mod\n",
    "\n",
    "import modplot"
   ]
  },
  {
   "cell_type": "markdown",
   "metadata": {},
   "source": [
    "### Read in the Open Data\n",
    "\n",
    "This cell determines the jet $p_T$, $|\\eta|$, and quality selections and reads in the datasets. The defaults are jets with $p_T\\in[375,425]$ GeV and $|\\eta|<1.9$ of \"medium\" quality. A small fraction of each dataset is used by default.\n",
    "\n",
    "**Customize:** You can change the `specs` to any desired jet selection. Make sure to change the corresponding plot stamp description of the selection."
   ]
  },
  {
   "cell_type": "code",
   "execution_count": null,
   "metadata": {},
   "outputs": [],
   "source": [
    "# use a fraction of the full datasets (amount=1.0 uses the full datasets)\n",
    "amount = 1.0\n",
    "\n",
    "# select jets with JEC-corrected pT in [375, 425] GeV and |eta| < 1.9, with \"medium\" quality\n",
    "specs = ['375 <= corr_jet_pts <= 425', 'abs_jet_eta < 1.9', 'quality >= 2']\n",
    "\n",
    "# stamp description of the jet selections\n",
    "legend_label_0 = r'AK5 Jets, $|\\eta^{\\rm jet}|<1.9$'\n",
    "legend_label_1 = r'$p_T^{\\rm jet}\\in [375,425]$ GeV'\n",
    "\n",
    "# load the CMS (cms), Pythia-generated (gen), and detector-simulated (sim) datasets\n",
    "cms = mod.load(*specs, dataset='cms', amount=amount)\n",
    "sim = mod.load(*specs, dataset='sim', amount=amount, store_gens=False)\n",
    "gen = mod.load(*specs, dataset='gen', amount=amount)\n",
    "\n",
    "# print datasets to see what they contain\n",
    "print(cms)\n",
    "print(sim)\n",
    "print(gen)"
   ]
  },
  {
   "cell_type": "markdown",
   "metadata": {},
   "source": [
    "### Observable and Plot Settings\n",
    "\n",
    "This cell determines the jet substructure observable being computed and all of the plot settings. The defaults here are for constituent multiplicity.\n",
    "\n",
    "**Customize:** You can change the `obs` function to any observable. Make sure to change the corresponding plot settings (binnings and labels) in this cell."
   ]
  },
  {
   "cell_type": "code",
   "execution_count": null,
   "metadata": {},
   "outputs": [],
   "source": [
    "# define your observable on the jet (i.e. list of PFC [pT, y, phi, m, PID, vertex])\n",
    "\n",
    "def obs(jet):\n",
    "    return np.sqrt(np.sum(jet[:,0]**(2))) / np.sum(jet[:,0])\n",
    "#    return len(jet)\n",
    "\n",
    "# define your histogram binning\n",
    "bins = np.linspace(0,1,51)\n",
    "\n",
    "# define the x-axis label and y-axis label\n",
    "xlabel = r'Track Transverse Momentum Dispersion $p_{T,{\\rm track}}^D$'\n",
    "ylabel = 'Differential Cross Section [nb]'\n",
    "\n",
    "# specify a particle flow candidate (PFC) filter, defaults to applying CHS only\n",
    "# settings are: which ('all' or 'charged'), a PFC ptcut (in GeV), and chs (True or False)\n",
    "filt_args = {'which': 'charged', 'pt_cut': 1, 'chs': True}\n",
    "filt_legend_label = r'CHS, $p_T^{\\rm PFC} > 1\\, {\\rm GeV}$'"
   ]
  },
  {
   "cell_type": "markdown",
   "metadata": {},
   "source": [
    "### Compute Observable Values\n",
    "\n",
    "This cell filters the particle flow candidates as specified and computes the jet substructure observables for all of the datasets.\n",
    "\n",
    "The Monte Carlo samples are reweighted based on the K-factors and to match the pileup profile of the data."
   ]
  },
  {
   "cell_type": "code",
   "execution_count": null,
   "metadata": {},
   "outputs": [],
   "source": [
    "# compute the observables on the jets, after filtering the PFCs accordingly\n",
    "cms_obs = np.asarray([obs(jet[mod.filter_particles(jet, **filt_args)]) for jet in cms.particles])\n",
    "sim_obs = np.asarray([obs(jet[mod.filter_particles(jet, **filt_args)]) for jet in sim.particles])\n",
    "gen_obs = np.asarray([obs(jet[mod.filter_particles(jet, **filt_args)]) for jet in gen.particles])\n",
    "\n",
    "# get weight modifications for sim and gen weights\n",
    "sim_factors = mod.kfactors('sim', sim.corr_jet_pts, sim.npvs)\n",
    "gen_factors = mod.kfactors('gen', gen.jet_pts)"
   ]
  },
  {
   "cell_type": "markdown",
   "metadata": {},
   "source": [
    "### Compute Histograms\n",
    "\n",
    "This cell computes the value and uncertainty of the histogram bins of the observable distribution for each of the datasets."
   ]
  },
  {
   "cell_type": "code",
   "execution_count": null,
   "metadata": {},
   "outputs": [],
   "source": [
    "# get middle bin values and step size\n",
    "step = bins[1]-bins[0]\n",
    "midbins = (bins[1:] + bins[:-1])/2\n",
    "\n",
    "# cms histogram calculation\n",
    "cms_hist, cms_errs, _ = modplot.calc_hist(cms_obs, bins=bins, weights=cms.weights, density=False)\n",
    "cms_hist, cms_errs = cms_hist/step, cms_errs/step\n",
    "\n",
    "# sim histogram calculation\n",
    "sim_hist, sim_errs, _ = modplot.calc_hist(sim_obs, bins=bins, weights=sim.weights*sim_factors, density=False)\n",
    "sim_hist, sim_errs = sim_hist/step, sim_errs/step\n",
    "\n",
    "# gen histogram calculation\n",
    "gen_hist, gen_errs, _ = modplot.calc_hist(gen_obs, bins=bins, weights=gen.weights*gen_factors, density=False)\n",
    "gen_hist, gen_errs = gen_hist/step, gen_errs/step"
   ]
  },
  {
   "cell_type": "markdown",
   "metadata": {},
   "source": [
    "### Make Plot of Observable Distributions\n",
    "\n",
    "This cell plots the computed histograms for each dataset in the MOD style.\n",
    "\n",
    "**Customize:** `modplot.axes` takes more arguments for further customization. The `style` dictionaries can be modified to customize the style of the curves. You can change `stamp_x` and `stamp_y` to move the stamp within the figure.\n",
    "\n",
    "**Note:** This example uses LaTeX syntax and rendering on the figure text. This may cause errors if moved to your system without a LaTeX matplotlib setup."
   ]
  },
  {
   "cell_type": "code",
   "execution_count": null,
   "metadata": {
    "scrolled": false
   },
   "outputs": [],
   "source": [
    "# get axes in MOD plot format\n",
    "fig, axes = modplot.axes(ratio_plot=True, xlabel=xlabel, ylabel=ylabel, ylim_ratio=(0.25, 1.75),\n",
    "                         xlim=(min(bins), max(bins)), ylim=(0, 1.5*np.max(cms_hist)))\n",
    "\n",
    "# tiny regulator\n",
    "reg = 10**-30\n",
    "\n",
    "# plot of the cms observable distribution\n",
    "cms_style = {'lw':1.5, 'capsize':1.5, 'capthick':1, 'markersize':1.5, 'color':'black', 'label':'CMS 2011 Open Data'}\n",
    "axes[0].errorbar(midbins, cms_hist, xerr=step/2, yerr=cms_errs, **modplot.cms_style(), zorder=3)\n",
    "axes[1].errorbar(midbins, cms_hist/(sim_hist + reg), xerr=step/2, yerr=cms_errs/(sim_hist+reg), **cms_style, zorder=2)\n",
    "\n",
    "# plot of the sim observable distribution\n",
    "sim_style = {'lw':1.5, 'capsize':1.5, 'capthick':1, 'markersize':1.5, 'color':'orange', 'label':'CMS 2011 Simulation'}\n",
    "axes[0].errorbar(midbins, sim_hist, xerr=step/2, yerr=sim_errs, **modplot.sim_style(), zorder=2)\n",
    "axes[1].errorbar(midbins, sim_hist/(sim_hist+reg), xerr=step/2, yerr=sim_errs/(sim_hist+reg), **sim_style, zorder=1)\n",
    "\n",
    "# plot of the gen observable distribution\n",
    "gen_style = {'lw': 1.5, 'ls': '--', 'color': 'blue', 'label': '\\\\textsc{Pythia 6} Generation'}\n",
    "axes[0].plot(midbins, gen_hist, **modplot.gen_style(), zorder=0)\n",
    "axes[1].plot(midbins, gen_hist/(sim_hist + reg), **gen_style, zorder=0)\n",
    "\n",
    "# additional plot modifications\n",
    "stamp_x, stamp_y = 0.56, 0.64\n",
    "modplot.stamp(stamp_x, stamp_y, ax=axes[0], line_0=legend_label_0, line_1=legend_label_1, line_2=filt_legend_label)\n",
    "modplot.legend(ax=axes[0], order=[1,2,0])\n",
    "\n",
    "# save plot. The tx & ty parameters are the watermark x & y positions and may need to be adjusted\n",
    "#modplot.save(fig, 'figname', tx=46, ty=252, out_plots_dir='../plots')\n",
    "\n",
    "fig.show()"
   ]
  },
  {
   "cell_type": "code",
   "execution_count": null,
   "metadata": {},
   "outputs": [],
   "source": []
  },
  {
   "cell_type": "markdown",
   "metadata": {},
   "source": [
    "### The End\n",
    "\n",
    "We hope you've enjoyed this quick introduction to using the MOD-processed CMS Open Data jet substructure datasets!"
   ]
  }
 ],
 "metadata": {
  "kernelspec": {
   "display_name": "Python 3",
   "language": "python",
   "name": "python3"
  },
  "language_info": {
   "codemirror_mode": {
    "name": "ipython",
    "version": 3
   },
   "file_extension": ".py",
   "mimetype": "text/x-python",
   "name": "python",
   "nbconvert_exporter": "python",
   "pygments_lexer": "ipython3",
   "version": "3.7.3"
  }
 },
 "nbformat": 4,
 "nbformat_minor": 2
}
