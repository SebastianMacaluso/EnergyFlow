{
 "cells": [
  {
   "cell_type": "markdown",
   "metadata": {},
   "source": [
    "## Imports"
   ]
  },
  {
   "cell_type": "code",
   "execution_count": 1,
   "metadata": {},
   "outputs": [],
   "source": [
    "import energyflow as ef\n",
    "import numpy as np"
   ]
  },
  {
   "cell_type": "code",
   "execution_count": 2,
   "metadata": {},
   "outputs": [],
   "source": [
    "# get events to use throughout\n",
    "events = np.random.rand(1000,25,3)"
   ]
  },
  {
   "cell_type": "markdown",
   "metadata": {},
   "source": [
    "## Polynomial classes"
   ]
  },
  {
   "cell_type": "markdown",
   "metadata": {},
   "source": [
    "### EFP\n",
    "_representing individual EFPs_"
   ]
  },
  {
   "cell_type": "code",
   "execution_count": 3,
   "metadata": {},
   "outputs": [
    {
     "name": "stdout",
     "output_type": "stream",
     "text": [
      "result on event 0: 0.0303572706162\n",
      "difference between graph0 and graph1: 6.93889390391e-18\n"
     ]
    }
   ],
   "source": [
    "# graphs are specified as a list of tuples\n",
    "graph0 = [(0,1),(0,1),(0,2),(1,2),(2,3)]\n",
    "\n",
    "# arbitrary objects can be used to label vertices\n",
    "graph1 = [('atlas','cms'),('atlas','cms'),('atlas','lhcb'),('cms','lhcb'),('lhcb','alice')]\n",
    "\n",
    "# let's make EFPs for these graphs\n",
    "graphs = [graph0, graph1]\n",
    "efps = [ef.EFP(g) for g in graphs]\n",
    "\n",
    "# and see that they give the same result\n",
    "result = [efp.compute(events[0]) for efp in efps]\n",
    "print('result on event 0:', result[0])\n",
    "print('difference between graph0 and graph1:', abs(result[0] - result[1]))"
   ]
  },
  {
   "cell_type": "code",
   "execution_count": 4,
   "metadata": {},
   "outputs": [
    {
     "name": "stdout",
     "output_type": "stream",
     "text": [
      "results shape: (1000,)\n",
      "result on event 0: 0.0303572706162\n"
     ]
    }
   ],
   "source": [
    "# batch_compute makes computation on many events simple\n",
    "results = efps[0].batch_compute(events)\n",
    "print('results shape:', results.shape)\n",
    "print('result on event 0:', results[0])"
   ]
  },
  {
   "cell_type": "code",
   "execution_count": 5,
   "metadata": {},
   "outputs": [
    {
     "name": "stdout",
     "output_type": "stream",
     "text": [
      "graph: [(0, 1), (0, 1), (0, 2), (1, 2), (2, 3)]\n",
      "simple_graph: [(0, 1), (0, 2), (1, 2), (2, 3)]\n",
      "n: 4\n",
      "d: 5\n",
      "c: 3\n"
     ]
    }
   ],
   "source": [
    "# each efp has a few useful properties\n",
    "efp = efps[0]\n",
    "print('graph:', efp.graph)\n",
    "print('simple_graph:', efp.simple_graph)\n",
    "print('n:', efp.n)\n",
    "print('d:', efp.d)\n",
    "print('c:', efp.c)"
   ]
  },
  {
   "cell_type": "markdown",
   "metadata": {},
   "source": [
    "### EFPSet\n",
    "_representing a collection of EFPs_"
   ]
  },
  {
   "cell_type": "code",
   "execution_count": 6,
   "metadata": {},
   "outputs": [
    {
     "name": "stdout",
     "output_type": "stream",
     "text": [
      "Originally Available EFPs:\n",
      "  Prime: 23690\n",
      "  Composite: 21540\n",
      "  Total:  45230\n",
      "Current Stored EFPs:\n",
      "  Prime: 53\n",
      "  Composite: 48\n",
      "  Total:  101\n"
     ]
    }
   ],
   "source": [
    "# initialize from installed default EFP file\n",
    "efpset = ef.EFPSet('d<=5', verbose=True)"
   ]
  },
  {
   "cell_type": "code",
   "execution_count": 7,
   "metadata": {},
   "outputs": [
    {
     "name": "stdout",
     "output_type": "stream",
     "text": [
      "result on event 0:\n",
      "[ 0.46629287  0.27685894  0.18474402  0.13381899  0.10295552  0.22423246\n",
      "  0.13654605  0.09313386  0.08490567  0.06871634  0.0589447   0.10343913\n",
      "  0.06208453  0.04208523  0.03710076  0.11100742  0.06914562  0.04806309\n",
      "  0.04385362  0.10748071  0.06528142  0.06713362  0.04442863  0.04681713\n",
      "  0.03956486  0.04164426  0.05090274  0.03035727  0.03127484  0.03154052\n",
      "  0.05394     0.03390356  0.02430545  0.05643912  0.03585858  0.05305464\n",
      "  0.03297436  0.0338994   0.03214995  0.05153672  0.03131099  0.03210652\n",
      "  0.02575768  0.0249762   0.02434483  0.02656846  0.0251619   0.02939029\n",
      "  0.02690626  0.02611848  0.02536456  0.02544765  0.02471071  0.21742904\n",
      "  0.12909735  0.08614482  0.07665087  0.05114803  0.06239884  0.104558\n",
      "  0.06208076  0.06367045  0.04823293  0.04142561  0.03780399  0.02863805\n",
      "  0.04342765  0.03959091  0.02894957  0.10138561  0.05176197  0.05011749\n",
      "  0.0502802   0.06019717  0.03224211  0.03044026  0.03130393  0.02373558\n",
      "  0.02515184  0.0307334   0.029757    0.03061806  0.02319441  0.04016871\n",
      "  0.03574176  0.04875465  0.02631716  0.024739    0.0240312   0.02489147\n",
      "  0.02410066  0.02894782  0.02968908  0.02249067  0.04727539  0.02413624\n",
      "  0.02336943  0.0234453   0.02806951  0.02273394  0.02204418]\n"
     ]
    }
   ],
   "source": [
    "# demonstrate computation on an event\n",
    "result = efpset.compute(events[0])\n",
    "print('result on event 0:')\n",
    "print(result)"
   ]
  },
  {
   "cell_type": "code",
   "execution_count": 8,
   "metadata": {},
   "outputs": [
    {
     "name": "stdout",
     "output_type": "stream",
     "text": [
      "results shape: (1000, 101)\n",
      "result on event 0:\n",
      "[ 0.46629287  0.27685894  0.18474402  0.13381899  0.10295552  0.22423246\n",
      "  0.13654605  0.09313386  0.08490567  0.06871634  0.0589447   0.10343913\n",
      "  0.06208453  0.04208523  0.03710076  0.11100742  0.06914562  0.04806309\n",
      "  0.04385362  0.10748071  0.06528142  0.06713362  0.04442863  0.04681713\n",
      "  0.03956486  0.04164426  0.05090274  0.03035727  0.03127484  0.03154052\n",
      "  0.05394     0.03390356  0.02430545  0.05643912  0.03585858  0.05305464\n",
      "  0.03297436  0.0338994   0.03214995  0.05153672  0.03131099  0.03210652\n",
      "  0.02575768  0.0249762   0.02434483  0.02656846  0.0251619   0.02939029\n",
      "  0.02690626  0.02611848  0.02536456  0.02544765  0.02471071  0.21742904\n",
      "  0.12909735  0.08614482  0.07665087  0.05114803  0.06239884  0.104558\n",
      "  0.06208076  0.06367045  0.04823293  0.04142561  0.03780399  0.02863805\n",
      "  0.04342765  0.03959091  0.02894957  0.10138561  0.05176197  0.05011749\n",
      "  0.0502802   0.06019717  0.03224211  0.03044026  0.03130393  0.02373558\n",
      "  0.02515184  0.0307334   0.029757    0.03061806  0.02319441  0.04016871\n",
      "  0.03574176  0.04875465  0.02631716  0.024739    0.0240312   0.02489147\n",
      "  0.02410066  0.02894782  0.02968908  0.02249067  0.04727539  0.02413624\n",
      "  0.02336943  0.0234453   0.02806951  0.02273394  0.02204418]\n"
     ]
    }
   ],
   "source": [
    "# demonstrate computation on many events\n",
    "results = efpset.batch_compute(events)\n",
    "print('results shape:', results.shape)\n",
    "print('result on event 0:')\n",
    "print(results[0])"
   ]
  },
  {
   "cell_type": "code",
   "execution_count": 9,
   "metadata": {},
   "outputs": [
    {
     "name": "stdout",
     "output_type": "stream",
     "text": [
      "1.98 s ± 3.17 ms per loop (mean ± std. dev. of 3 runs, 1 loop each)\n",
      "7.71 s ± 0 ns per loop (mean ± std. dev. of 1 run, 1 loop each)\n"
     ]
    }
   ],
   "source": [
    "# batch_compute is faster than using compute repeatedly\n",
    "%timeit -r 3 efpset.batch_compute(events)\n",
    "%timeit -r 1 [efpset.compute(event) for event in events]"
   ]
  },
  {
   "cell_type": "code",
   "execution_count": 10,
   "metadata": {},
   "outputs": [],
   "source": [
    "# zs and thetas can be passed in explicitly if you want to use a custom measure\n",
    "zs = np.random.rand(100,25)\n",
    "thetas = np.random.rand(100,25,25)\n",
    "results = efpset.batch_compute(zs=zs, thetas=thetas)"
   ]
  },
  {
   "cell_type": "code",
   "execution_count": 11,
   "metadata": {},
   "outputs": [],
   "source": [
    "# examine all the graphs in the EFPSet\n",
    "graphs = efpset.graphs()\n",
    "\n",
    "# examine only those graphs with chi == 3\n",
    "chi3_graphs = efpset.graphs('c == 3')"
   ]
  },
  {
   "cell_type": "markdown",
   "metadata": {},
   "source": [
    "## Additional features (`igraph` must be installed)"
   ]
  },
  {
   "cell_type": "markdown",
   "metadata": {},
   "source": [
    "### Generator"
   ]
  },
  {
   "cell_type": "code",
   "execution_count": 12,
   "metadata": {},
   "outputs": [
    {
     "name": "stdout",
     "output_type": "stream",
     "text": [
      "Initializing from generator:\n",
      "Originally Available EFPs:\n",
      "  Prime: 489\n",
      "  Composite: 510\n",
      "  Total:  999\n",
      "Current Stored EFPs:\n",
      "  Prime: 156\n",
      "  Composite: 157\n",
      "  Total:  313\n",
      "\n",
      "Initializing from custom file:\n",
      "Originally Available EFPs:\n",
      "  Prime: 489\n",
      "  Composite: 510\n",
      "  Total:  999\n",
      "Current Stored EFPs:\n",
      "  Prime: 156\n",
      "  Composite: 157\n",
      "  Total:  313\n"
     ]
    }
   ],
   "source": [
    "# initialize from generator\n",
    "print('Initializing from generator:')\n",
    "gen = ef.Generator(dmax=7)\n",
    "efpset0 = ef.EFPSet(gen, 'd<=6', verbose=True)\n",
    "\n",
    "print()\n",
    "\n",
    "# initialize from custom file\n",
    "print('Initializing from custom file:')\n",
    "gen.save('test')\n",
    "efpset1 = ef.EFPSet('d<=6', filename='test', verbose=True)\n",
    "import os\n",
    "os.remove('test.npz')"
   ]
  },
  {
   "cell_type": "code",
   "execution_count": null,
   "metadata": {},
   "outputs": [],
   "source": []
  }
 ],
 "metadata": {
  "kernelspec": {
   "display_name": "Python 3",
   "language": "python",
   "name": "python3"
  },
  "language_info": {
   "codemirror_mode": {
    "name": "ipython",
    "version": 3
   },
   "file_extension": ".py",
   "mimetype": "text/x-python",
   "name": "python",
   "nbconvert_exporter": "python",
   "pygments_lexer": "ipython3",
   "version": "3.5.2"
  }
 },
 "nbformat": 4,
 "nbformat_minor": 2
}
