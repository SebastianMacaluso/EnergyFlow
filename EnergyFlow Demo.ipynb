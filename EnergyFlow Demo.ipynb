{
 "cells": [
  {
   "cell_type": "markdown",
   "metadata": {},
   "source": [
    "## Imports"
   ]
  },
  {
   "cell_type": "code",
   "execution_count": null,
   "metadata": {},
   "outputs": [],
   "source": [
    "import energyflow as ef\n",
    "import numpy as np"
   ]
  },
  {
   "cell_type": "code",
   "execution_count": null,
   "metadata": {},
   "outputs": [],
   "source": [
    "# get events to use throughout\n",
    "events = np.random.rand(1000,25,3)"
   ]
  },
  {
   "cell_type": "markdown",
   "metadata": {},
   "source": [
    "## Polynomial classes"
   ]
  },
  {
   "cell_type": "markdown",
   "metadata": {},
   "source": [
    "### EFP\n",
    "_representing individual EFPs_"
   ]
  },
  {
   "cell_type": "code",
   "execution_count": null,
   "metadata": {},
   "outputs": [],
   "source": [
    "# graphs are specified as a list of tuples\n",
    "graph0 = [(0,1),(0,1),(0,2),(1,2),(2,3)]\n",
    "\n",
    "# arbitrary objects can be used to label vertices\n",
    "graph1 = [('atlas','cms'),('atlas','cms'),('atlas','lhcb'),('cms','lhcb'),('lhcb','alice')]\n",
    "\n",
    "# let's make EFPs for these graphs\n",
    "graphs = [graph0, graph1]\n",
    "efps = [ef.EFP(g) for g in graphs]\n",
    "\n",
    "# and see that they give the same result\n",
    "result = [efp.compute(events[0]) for efp in efps]\n",
    "print('result on event 0:', result[0])\n",
    "print('difference between graph0 and graph1:', abs(result[0] - result[1]))"
   ]
  },
  {
   "cell_type": "code",
   "execution_count": null,
   "metadata": {},
   "outputs": [],
   "source": [
    "# batch_compute makes computation on many events simple\n",
    "results = efps[0].batch_compute(events)\n",
    "print('results shape:', results.shape)\n",
    "print('result on event 0:', results[0])"
   ]
  },
  {
   "cell_type": "code",
   "execution_count": null,
   "metadata": {},
   "outputs": [],
   "source": [
    "# each efp has a few useful properties\n",
    "efp = efps[0]\n",
    "print('graph:', efp.graph)\n",
    "print('simple_graph:', efp.simple_graph)\n",
    "print('n:', efp.n)\n",
    "print('d:', efp.d)\n",
    "print('c:', efp.c)"
   ]
  },
  {
   "cell_type": "markdown",
   "metadata": {},
   "source": [
    "### EFPSet\n",
    "_representing a collection of EFPs_"
   ]
  },
  {
   "cell_type": "code",
   "execution_count": null,
   "metadata": {},
   "outputs": [],
   "source": [
    "# initialize from installed default EFP file\n",
    "efpset = ef.EFPSet('d<=5', verbose=True)"
   ]
  },
  {
   "cell_type": "code",
   "execution_count": null,
   "metadata": {},
   "outputs": [],
   "source": [
    "# demonstrate computation on an event\n",
    "result = efpset.compute(events[0])\n",
    "print('result on event 0:')\n",
    "print(result)"
   ]
  },
  {
   "cell_type": "code",
   "execution_count": null,
   "metadata": {},
   "outputs": [],
   "source": [
    "# demonstrate computation on many events\n",
    "results = efpset.batch_compute(events)\n",
    "print('results shape:', results.shape)\n",
    "print('result on event 0:')\n",
    "print(results[0])"
   ]
  },
  {
   "cell_type": "code",
   "execution_count": null,
   "metadata": {},
   "outputs": [],
   "source": [
    "# batch_compute is faster than using compute repeatedly\n",
    "%timeit -r 3 efpset.batch_compute(events)\n",
    "%timeit -r 1 [efpset.compute(event) for event in events]"
   ]
  },
  {
   "cell_type": "code",
   "execution_count": null,
   "metadata": {},
   "outputs": [],
   "source": [
    "# zs and thetas can be passed in explicitly if you want to use a custom measure\n",
    "zs = np.random.rand(100,25)\n",
    "thetas = np.random.rand(100,25,25)\n",
    "results = efpset.batch_compute(zs=zs, thetas=thetas)"
   ]
  },
  {
   "cell_type": "code",
   "execution_count": null,
   "metadata": {},
   "outputs": [],
   "source": [
    "# examine all the graphs in the EFPSet\n",
    "graphs = efpset.graphs()\n",
    "\n",
    "# examine only those graphs with chi == 3\n",
    "chi3_graphs = efpset.graphs('c == 3')"
   ]
  },
  {
   "cell_type": "markdown",
   "metadata": {},
   "source": [
    "## Additional features (`igraph` must be installed)"
   ]
  },
  {
   "cell_type": "markdown",
   "metadata": {},
   "source": [
    "### Generator"
   ]
  },
  {
   "cell_type": "code",
   "execution_count": null,
   "metadata": {},
   "outputs": [],
   "source": [
    "# initialize from generator\n",
    "print('Initializing from generator:')\n",
    "gen = ef.Generator(dmax=7)\n",
    "efpset0 = ef.EFPSet(gen, 'd<=6', verbose=True)\n",
    "\n",
    "print()\n",
    "\n",
    "# initialize from custom file\n",
    "print('Initializing from custom file:')\n",
    "gen.save('test')\n",
    "efpset1 = ef.EFPSet('d<=6', filename='test', verbose=True)\n",
    "import os\n",
    "os.remove('test.npz')"
   ]
  },
  {
   "cell_type": "code",
   "execution_count": null,
   "metadata": {},
   "outputs": [],
   "source": []
  }
 ],
 "metadata": {
  "kernelspec": {
   "display_name": "Python 3",
   "language": "python",
   "name": "python3"
  },
  "language_info": {
   "codemirror_mode": {
    "name": "ipython",
    "version": 3
   },
   "file_extension": ".py",
   "mimetype": "text/x-python",
   "name": "python",
   "nbconvert_exporter": "python",
   "pygments_lexer": "ipython3",
   "version": "3.5.2"
  }
 },
 "nbformat": 4,
 "nbformat_minor": 2
}
